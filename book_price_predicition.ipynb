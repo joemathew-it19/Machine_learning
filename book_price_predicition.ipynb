{
  "nbformat": 4,
  "nbformat_minor": 0,
  "metadata": {
    "colab": {
      "name": "book_price_predicition.ipynb",
      "provenance": [],
      "collapsed_sections": []
    },
    "kernelspec": {
      "name": "python3",
      "display_name": "Python 3"
    }
  },
  "cells": [
    {
      "cell_type": "code",
      "metadata": {
        "id": "K9O9lMVux4Kz",
        "outputId": "6996a82f-edb9-4f89-e087-de22c270c4f0",
        "colab": {
          "resources": {
            "http://localhost:8080/nbextensions/google.colab/files.js": {
              "data": "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",
              "ok": true,
              "headers": [
                [
                  "content-type",
                  "application/javascript"
                ]
              ],
              "status": 200,
              "status_text": ""
            }
          },
          "base_uri": "https://localhost:8080/",
          "height": 140
        }
      },
      "source": [
        "from google.colab import files\n",
        "uploaded = files.upload()"
      ],
      "execution_count": null,
      "outputs": [
        {
          "output_type": "display_data",
          "data": {
            "text/html": [
              "\n",
              "     <input type=\"file\" id=\"files-d4c85065-1373-4af8-bd73-6f73ed84a0b8\" name=\"files[]\" multiple disabled\n",
              "        style=\"border:none\" />\n",
              "     <output id=\"result-d4c85065-1373-4af8-bd73-6f73ed84a0b8\">\n",
              "      Upload widget is only available when the cell has been executed in the\n",
              "      current browser session. Please rerun this cell to enable.\n",
              "      </output>\n",
              "      <script src=\"/nbextensions/google.colab/files.js\"></script> "
            ],
            "text/plain": [
              "<IPython.core.display.HTML object>"
            ]
          },
          "metadata": {
            "tags": []
          }
        },
        {
          "output_type": "stream",
          "text": [
            "Saving Data_Test.xlsx to Data_Test.xlsx\n",
            "Saving Data_Train.xlsx to Data_Train.xlsx\n",
            "Saving Sample_Submission.xlsx to Sample_Submission.xlsx\n"
          ],
          "name": "stdout"
        }
      ]
    },
    {
      "cell_type": "code",
      "metadata": {
        "id": "QVfhtt5s0B3V",
        "outputId": "090db854-54cf-4d28-b4ba-7258dfc05bb1",
        "colab": {
          "base_uri": "https://localhost:8080/",
          "height": 71
        }
      },
      "source": [
        "import numpy as np\n",
        "import pandas as pd\n",
        "import matplotlib.pyplot as plt \n",
        "import seaborn as sns\n",
        "%matplotlib inline"
      ],
      "execution_count": null,
      "outputs": [
        {
          "output_type": "stream",
          "text": [
            "/usr/local/lib/python3.6/dist-packages/statsmodels/tools/_testing.py:19: FutureWarning: pandas.util.testing is deprecated. Use the functions in the public API at pandas.testing instead.\n",
            "  import pandas.util.testing as tm\n"
          ],
          "name": "stderr"
        }
      ]
    },
    {
      "cell_type": "code",
      "metadata": {
        "id": "rOuDydCyyi-n"
      },
      "source": [
        "book_train = pd.read_excel('/content/Data_Train.xlsx')\n",
        "book_test = pd.read_excel('/content/Data_Test.xlsx')"
      ],
      "execution_count": null,
      "outputs": []
    },
    {
      "cell_type": "code",
      "metadata": {
        "id": "v-cO9Uw0yi80",
        "outputId": "5958bc98-e4fc-44eb-86ef-68feae222693",
        "colab": {
          "base_uri": "https://localhost:8080/",
          "height": 971
        }
      },
      "source": [
        "book_train.head(10)"
      ],
      "execution_count": null,
      "outputs": [
        {
          "output_type": "execute_result",
          "data": {
            "text/html": [
              "<div>\n",
              "<style scoped>\n",
              "    .dataframe tbody tr th:only-of-type {\n",
              "        vertical-align: middle;\n",
              "    }\n",
              "\n",
              "    .dataframe tbody tr th {\n",
              "        vertical-align: top;\n",
              "    }\n",
              "\n",
              "    .dataframe thead th {\n",
              "        text-align: right;\n",
              "    }\n",
              "</style>\n",
              "<table border=\"1\" class=\"dataframe\">\n",
              "  <thead>\n",
              "    <tr style=\"text-align: right;\">\n",
              "      <th></th>\n",
              "      <th>Title</th>\n",
              "      <th>Author</th>\n",
              "      <th>Edition</th>\n",
              "      <th>Reviews</th>\n",
              "      <th>Ratings</th>\n",
              "      <th>Synopsis</th>\n",
              "      <th>Genre</th>\n",
              "      <th>BookCategory</th>\n",
              "      <th>Price</th>\n",
              "    </tr>\n",
              "  </thead>\n",
              "  <tbody>\n",
              "    <tr>\n",
              "      <th>0</th>\n",
              "      <td>The Prisoner's Gold (The Hunters 3)</td>\n",
              "      <td>Chris Kuzneski</td>\n",
              "      <td>Paperback,– 10 Mar 2016</td>\n",
              "      <td>4.0 out of 5 stars</td>\n",
              "      <td>8 customer reviews</td>\n",
              "      <td>THE HUNTERS return in their third brilliant no...</td>\n",
              "      <td>Action &amp; Adventure (Books)</td>\n",
              "      <td>Action &amp; Adventure</td>\n",
              "      <td>220.00</td>\n",
              "    </tr>\n",
              "    <tr>\n",
              "      <th>1</th>\n",
              "      <td>Guru Dutt: A Tragedy in Three Acts</td>\n",
              "      <td>Arun Khopkar</td>\n",
              "      <td>Paperback,– 7 Nov 2012</td>\n",
              "      <td>3.9 out of 5 stars</td>\n",
              "      <td>14 customer reviews</td>\n",
              "      <td>A layered portrait of a troubled genius for wh...</td>\n",
              "      <td>Cinema &amp; Broadcast (Books)</td>\n",
              "      <td>Biographies, Diaries &amp; True Accounts</td>\n",
              "      <td>202.93</td>\n",
              "    </tr>\n",
              "    <tr>\n",
              "      <th>2</th>\n",
              "      <td>Leviathan (Penguin Classics)</td>\n",
              "      <td>Thomas Hobbes</td>\n",
              "      <td>Paperback,– 25 Feb 1982</td>\n",
              "      <td>4.8 out of 5 stars</td>\n",
              "      <td>6 customer reviews</td>\n",
              "      <td>\"During the time men live without a common Pow...</td>\n",
              "      <td>International Relations</td>\n",
              "      <td>Humour</td>\n",
              "      <td>299.00</td>\n",
              "    </tr>\n",
              "    <tr>\n",
              "      <th>3</th>\n",
              "      <td>A Pocket Full of Rye (Miss Marple)</td>\n",
              "      <td>Agatha Christie</td>\n",
              "      <td>Paperback,– 5 Oct 2017</td>\n",
              "      <td>4.1 out of 5 stars</td>\n",
              "      <td>13 customer reviews</td>\n",
              "      <td>A handful of grain is found in the pocket of a...</td>\n",
              "      <td>Contemporary Fiction (Books)</td>\n",
              "      <td>Crime, Thriller &amp; Mystery</td>\n",
              "      <td>180.00</td>\n",
              "    </tr>\n",
              "    <tr>\n",
              "      <th>4</th>\n",
              "      <td>LIFE 70 Years of Extraordinary Photography</td>\n",
              "      <td>Editors of Life</td>\n",
              "      <td>Hardcover,– 10 Oct 2006</td>\n",
              "      <td>5.0 out of 5 stars</td>\n",
              "      <td>1 customer review</td>\n",
              "      <td>For seven decades, \"Life\" has been thrilling t...</td>\n",
              "      <td>Photography Textbooks</td>\n",
              "      <td>Arts, Film &amp; Photography</td>\n",
              "      <td>965.62</td>\n",
              "    </tr>\n",
              "    <tr>\n",
              "      <th>5</th>\n",
              "      <td>ChiRunning: A Revolutionary Approach to Effort...</td>\n",
              "      <td>Danny Dreyer</td>\n",
              "      <td>Paperback,– 5 May 2009</td>\n",
              "      <td>4.5 out of 5 stars</td>\n",
              "      <td>8 customer reviews</td>\n",
              "      <td>The revised edition of the bestselling ChiRunn...</td>\n",
              "      <td>Healthy Living &amp; Wellness (Books)</td>\n",
              "      <td>Sports</td>\n",
              "      <td>900.00</td>\n",
              "    </tr>\n",
              "    <tr>\n",
              "      <th>6</th>\n",
              "      <td>Death on the Nile (Poirot)</td>\n",
              "      <td>Agatha Christie</td>\n",
              "      <td>Paperback,– 5 Oct 2017</td>\n",
              "      <td>4.4 out of 5 stars</td>\n",
              "      <td>72 customer reviews</td>\n",
              "      <td>Agatha Christie’s most exotic murder mystery\\n...</td>\n",
              "      <td>Crime, Thriller &amp; Mystery (Books)</td>\n",
              "      <td>Crime, Thriller &amp; Mystery</td>\n",
              "      <td>224.00</td>\n",
              "    </tr>\n",
              "    <tr>\n",
              "      <th>7</th>\n",
              "      <td>Yoga Your Home Practice Companion: A Complete ...</td>\n",
              "      <td>Sivananda Yoga Vedanta Centre</td>\n",
              "      <td>Hardcover,– Import, 1 Mar 2018</td>\n",
              "      <td>4.7 out of 5 stars</td>\n",
              "      <td>16 customer reviews</td>\n",
              "      <td>Achieve a healthy body, mental alertness, and ...</td>\n",
              "      <td>Sports Training &amp; Coaching (Books)</td>\n",
              "      <td>Sports</td>\n",
              "      <td>836.00</td>\n",
              "    </tr>\n",
              "    <tr>\n",
              "      <th>8</th>\n",
              "      <td>Karmayogi: A Biography of E. Sreedharan</td>\n",
              "      <td>M S Ashokan</td>\n",
              "      <td>Paperback,– 15 Dec 2015</td>\n",
              "      <td>4.2 out of 5 stars</td>\n",
              "      <td>111 customer reviews</td>\n",
              "      <td>Karmayogi is the dramatic and inspiring story ...</td>\n",
              "      <td>Biographies &amp; Autobiographies (Books)</td>\n",
              "      <td>Biographies, Diaries &amp; True Accounts</td>\n",
              "      <td>130.00</td>\n",
              "    </tr>\n",
              "    <tr>\n",
              "      <th>9</th>\n",
              "      <td>The Iron King (The Accursed Kings, Book 1)</td>\n",
              "      <td>Maurice Druon</td>\n",
              "      <td>Paperback,– 26 Mar 2013</td>\n",
              "      <td>4.0 out of 5 stars</td>\n",
              "      <td>1 customer review</td>\n",
              "      <td>‘This is the original game of thrones’ George ...</td>\n",
              "      <td>Action &amp; Adventure (Books)</td>\n",
              "      <td>Action &amp; Adventure</td>\n",
              "      <td>695.00</td>\n",
              "    </tr>\n",
              "  </tbody>\n",
              "</table>\n",
              "</div>"
            ],
            "text/plain": [
              "                                               Title  ...   Price\n",
              "0                The Prisoner's Gold (The Hunters 3)  ...  220.00\n",
              "1                 Guru Dutt: A Tragedy in Three Acts  ...  202.93\n",
              "2                       Leviathan (Penguin Classics)  ...  299.00\n",
              "3                 A Pocket Full of Rye (Miss Marple)  ...  180.00\n",
              "4         LIFE 70 Years of Extraordinary Photography  ...  965.62\n",
              "5  ChiRunning: A Revolutionary Approach to Effort...  ...  900.00\n",
              "6                         Death on the Nile (Poirot)  ...  224.00\n",
              "7  Yoga Your Home Practice Companion: A Complete ...  ...  836.00\n",
              "8            Karmayogi: A Biography of E. Sreedharan  ...  130.00\n",
              "9         The Iron King (The Accursed Kings, Book 1)  ...  695.00\n",
              "\n",
              "[10 rows x 9 columns]"
            ]
          },
          "metadata": {
            "tags": []
          },
          "execution_count": 5
        }
      ]
    },
    {
      "cell_type": "code",
      "metadata": {
        "id": "g7vleZYTyi6t",
        "outputId": "6986dd0d-c8b1-4de8-b8eb-a5fdc48f5bd6",
        "colab": {
          "base_uri": "https://localhost:8080/",
          "height": 835
        }
      },
      "source": [
        "book_test.head(10)"
      ],
      "execution_count": null,
      "outputs": [
        {
          "output_type": "execute_result",
          "data": {
            "text/html": [
              "<div>\n",
              "<style scoped>\n",
              "    .dataframe tbody tr th:only-of-type {\n",
              "        vertical-align: middle;\n",
              "    }\n",
              "\n",
              "    .dataframe tbody tr th {\n",
              "        vertical-align: top;\n",
              "    }\n",
              "\n",
              "    .dataframe thead th {\n",
              "        text-align: right;\n",
              "    }\n",
              "</style>\n",
              "<table border=\"1\" class=\"dataframe\">\n",
              "  <thead>\n",
              "    <tr style=\"text-align: right;\">\n",
              "      <th></th>\n",
              "      <th>Title</th>\n",
              "      <th>Author</th>\n",
              "      <th>Edition</th>\n",
              "      <th>Reviews</th>\n",
              "      <th>Ratings</th>\n",
              "      <th>Synopsis</th>\n",
              "      <th>Genre</th>\n",
              "      <th>BookCategory</th>\n",
              "    </tr>\n",
              "  </thead>\n",
              "  <tbody>\n",
              "    <tr>\n",
              "      <th>0</th>\n",
              "      <td>The Complete Sherlock Holmes: 2 Boxes sets</td>\n",
              "      <td>Sir Arthur Conan Doyle</td>\n",
              "      <td>Mass Market Paperback,– 1 Oct 1986</td>\n",
              "      <td>4.4 out of 5 stars</td>\n",
              "      <td>960 customer reviews</td>\n",
              "      <td>A collection of entire body of work of the She...</td>\n",
              "      <td>Short Stories (Books)</td>\n",
              "      <td>Crime, Thriller &amp; Mystery</td>\n",
              "    </tr>\n",
              "    <tr>\n",
              "      <th>1</th>\n",
              "      <td>Learn Docker - Fundamentals of Docker 18.x: Ev...</td>\n",
              "      <td>Gabriel N. Schenker</td>\n",
              "      <td>Paperback,– Import, 26 Apr 2018</td>\n",
              "      <td>5.0 out of 5 stars</td>\n",
              "      <td>1 customer review</td>\n",
              "      <td>Enhance your software deployment workflow usin...</td>\n",
              "      <td>Operating Systems Textbooks</td>\n",
              "      <td>Computing, Internet &amp; Digital Media</td>\n",
              "    </tr>\n",
              "    <tr>\n",
              "      <th>2</th>\n",
              "      <td>Big Girl</td>\n",
              "      <td>Danielle Steel</td>\n",
              "      <td>Paperback,– 17 Mar 2011</td>\n",
              "      <td>5.0 out of 5 stars</td>\n",
              "      <td>4 customer reviews</td>\n",
              "      <td>'Watch out, world. Here I come!'\\nFor Victoria...</td>\n",
              "      <td>Romance (Books)</td>\n",
              "      <td>Romance</td>\n",
              "    </tr>\n",
              "    <tr>\n",
              "      <th>3</th>\n",
              "      <td>Think Python: How to Think Like a Computer Sci...</td>\n",
              "      <td>Allen B. Downey</td>\n",
              "      <td>Paperback,– 2016</td>\n",
              "      <td>4.1 out of 5 stars</td>\n",
              "      <td>11 customer reviews</td>\n",
              "      <td>If you want to learn how to program, working w...</td>\n",
              "      <td>Programming &amp; Software Development (Books)</td>\n",
              "      <td>Computing, Internet &amp; Digital Media</td>\n",
              "    </tr>\n",
              "    <tr>\n",
              "      <th>4</th>\n",
              "      <td>Oxford Word Skills: Advanced - Idioms &amp; Phrasa...</td>\n",
              "      <td>Redman Gairns</td>\n",
              "      <td>Paperback,– 26 Dec 2011</td>\n",
              "      <td>4.4 out of 5 stars</td>\n",
              "      <td>9 customer reviews</td>\n",
              "      <td>Learn and practise the verbs, prepositions and...</td>\n",
              "      <td>Linguistics (Books)</td>\n",
              "      <td>Language, Linguistics &amp; Writing</td>\n",
              "    </tr>\n",
              "    <tr>\n",
              "      <th>5</th>\n",
              "      <td>Understanding a Photograph (Penguin Modern Cla...</td>\n",
              "      <td>John Berger</td>\n",
              "      <td>Paperback,– 7 Nov 2013</td>\n",
              "      <td>5.0 out of 5 stars</td>\n",
              "      <td>2 customer reviews</td>\n",
              "      <td>John Berger's writings on photography are some...</td>\n",
              "      <td>Arts History, Theory &amp; Criticism (Books)</td>\n",
              "      <td>Arts, Film &amp; Photography</td>\n",
              "    </tr>\n",
              "    <tr>\n",
              "      <th>6</th>\n",
              "      <td>Dance Music Manual</td>\n",
              "      <td>Rick Snoman</td>\n",
              "      <td>Paperback,– Import, 5 Feb 2019</td>\n",
              "      <td>5.0 out of 5 stars</td>\n",
              "      <td>1 customer review</td>\n",
              "      <td>Dance Music Manual, aimed at the novice and se...</td>\n",
              "      <td>Music Books</td>\n",
              "      <td>Computing, Internet &amp; Digital Media</td>\n",
              "    </tr>\n",
              "    <tr>\n",
              "      <th>7</th>\n",
              "      <td>A Clash of Kings (A Song of Ice and Fire)</td>\n",
              "      <td>George R.R. Martin</td>\n",
              "      <td>Paperback,– 29 Mar 2012</td>\n",
              "      <td>4.3 out of 5 stars</td>\n",
              "      <td>117 customer reviews</td>\n",
              "      <td>The second volume of A Song of Ice and Fire, t...</td>\n",
              "      <td>Action &amp; Adventure (Books)</td>\n",
              "      <td>Crime, Thriller &amp; Mystery</td>\n",
              "    </tr>\n",
              "    <tr>\n",
              "      <th>8</th>\n",
              "      <td>An Era of Darkness: The British Empire in India</td>\n",
              "      <td>Shashi Tharoor</td>\n",
              "      <td>Hardcover,– 27 Oct 2016</td>\n",
              "      <td>4.4 out of 5 stars</td>\n",
              "      <td>550 customer reviews</td>\n",
              "      <td>In 1930, the American historian and philosophe...</td>\n",
              "      <td>Asian History</td>\n",
              "      <td>Politics</td>\n",
              "    </tr>\n",
              "    <tr>\n",
              "      <th>9</th>\n",
              "      <td>Doing Justice: A Prosecutor’s Thoughts on Crim...</td>\n",
              "      <td>Preet Bharara</td>\n",
              "      <td>Paperback,– 19 Mar 2019</td>\n",
              "      <td>4.4 out of 5 stars</td>\n",
              "      <td>6 customer reviews</td>\n",
              "      <td>A Guardian Pick for 2019\\nThe People vs. Putin...</td>\n",
              "      <td>True Accounts (Books)</td>\n",
              "      <td>Action &amp; Adventure</td>\n",
              "    </tr>\n",
              "  </tbody>\n",
              "</table>\n",
              "</div>"
            ],
            "text/plain": [
              "                                               Title  ...                         BookCategory\n",
              "0         The Complete Sherlock Holmes: 2 Boxes sets  ...            Crime, Thriller & Mystery\n",
              "1  Learn Docker - Fundamentals of Docker 18.x: Ev...  ...  Computing, Internet & Digital Media\n",
              "2                                           Big Girl  ...                              Romance\n",
              "3  Think Python: How to Think Like a Computer Sci...  ...  Computing, Internet & Digital Media\n",
              "4  Oxford Word Skills: Advanced - Idioms & Phrasa...  ...      Language, Linguistics & Writing\n",
              "5  Understanding a Photograph (Penguin Modern Cla...  ...             Arts, Film & Photography\n",
              "6                                 Dance Music Manual  ...  Computing, Internet & Digital Media\n",
              "7          A Clash of Kings (A Song of Ice and Fire)  ...            Crime, Thriller & Mystery\n",
              "8    An Era of Darkness: The British Empire in India  ...                             Politics\n",
              "9  Doing Justice: A Prosecutor’s Thoughts on Crim...  ...                   Action & Adventure\n",
              "\n",
              "[10 rows x 8 columns]"
            ]
          },
          "metadata": {
            "tags": []
          },
          "execution_count": 6
        }
      ]
    },
    {
      "cell_type": "code",
      "metadata": {
        "id": "FCuK8I58yi41",
        "outputId": "a0f65e79-61c3-4c53-efc6-8706686d1a22",
        "colab": {
          "base_uri": "https://localhost:8080/",
          "height": 34
        }
      },
      "source": [
        "book_train.shape,book_test.shape"
      ],
      "execution_count": null,
      "outputs": [
        {
          "output_type": "execute_result",
          "data": {
            "text/plain": [
              "((6237, 9), (1560, 8))"
            ]
          },
          "metadata": {
            "tags": []
          },
          "execution_count": 7
        }
      ]
    },
    {
      "cell_type": "code",
      "metadata": {
        "id": "GPXD_EcOyi28",
        "outputId": "12c7b2c5-f602-4d2f-aa5a-0a6f67056cc6",
        "colab": {
          "base_uri": "https://localhost:8080/",
          "height": 187
        }
      },
      "source": [
        "book_train.dtypes"
      ],
      "execution_count": null,
      "outputs": [
        {
          "output_type": "execute_result",
          "data": {
            "text/plain": [
              "Title            object\n",
              "Author           object\n",
              "Edition          object\n",
              "Reviews          object\n",
              "Ratings          object\n",
              "Synopsis         object\n",
              "Genre            object\n",
              "BookCategory     object\n",
              "Price           float64\n",
              "dtype: object"
            ]
          },
          "metadata": {
            "tags": []
          },
          "execution_count": 8
        }
      ]
    },
    {
      "cell_type": "code",
      "metadata": {
        "id": "tDFgzLlayi0-",
        "outputId": "8d1fb03f-5bcf-40d8-fbc9-efd831df18ca",
        "colab": {
          "base_uri": "https://localhost:8080/",
          "height": 111
        }
      },
      "source": [
        "book_train.describe(include='all').head(2)"
      ],
      "execution_count": null,
      "outputs": [
        {
          "output_type": "execute_result",
          "data": {
            "text/html": [
              "<div>\n",
              "<style scoped>\n",
              "    .dataframe tbody tr th:only-of-type {\n",
              "        vertical-align: middle;\n",
              "    }\n",
              "\n",
              "    .dataframe tbody tr th {\n",
              "        vertical-align: top;\n",
              "    }\n",
              "\n",
              "    .dataframe thead th {\n",
              "        text-align: right;\n",
              "    }\n",
              "</style>\n",
              "<table border=\"1\" class=\"dataframe\">\n",
              "  <thead>\n",
              "    <tr style=\"text-align: right;\">\n",
              "      <th></th>\n",
              "      <th>Title</th>\n",
              "      <th>Author</th>\n",
              "      <th>Edition</th>\n",
              "      <th>Reviews</th>\n",
              "      <th>Ratings</th>\n",
              "      <th>Synopsis</th>\n",
              "      <th>Genre</th>\n",
              "      <th>BookCategory</th>\n",
              "      <th>Price</th>\n",
              "    </tr>\n",
              "  </thead>\n",
              "  <tbody>\n",
              "    <tr>\n",
              "      <th>count</th>\n",
              "      <td>6237</td>\n",
              "      <td>6237</td>\n",
              "      <td>6237</td>\n",
              "      <td>6237</td>\n",
              "      <td>6237</td>\n",
              "      <td>6237</td>\n",
              "      <td>6237</td>\n",
              "      <td>6237</td>\n",
              "      <td>6237.0</td>\n",
              "    </tr>\n",
              "    <tr>\n",
              "      <th>unique</th>\n",
              "      <td>5568</td>\n",
              "      <td>3679</td>\n",
              "      <td>3370</td>\n",
              "      <td>36</td>\n",
              "      <td>342</td>\n",
              "      <td>5549</td>\n",
              "      <td>345</td>\n",
              "      <td>11</td>\n",
              "      <td>NaN</td>\n",
              "    </tr>\n",
              "  </tbody>\n",
              "</table>\n",
              "</div>"
            ],
            "text/plain": [
              "       Title Author Edition Reviews Ratings Synopsis Genre BookCategory   Price\n",
              "count   6237   6237    6237    6237    6237     6237  6237         6237  6237.0\n",
              "unique  5568   3679    3370      36     342     5549   345           11     NaN"
            ]
          },
          "metadata": {
            "tags": []
          },
          "execution_count": 11
        }
      ]
    },
    {
      "cell_type": "code",
      "metadata": {
        "id": "bhrrMQmayiy4",
        "outputId": "7f88c5bc-f209-408d-bd95-c4ef9697ec1c",
        "colab": {
          "base_uri": "https://localhost:8080/",
          "height": 68
        }
      },
      "source": [
        "book_train.columns"
      ],
      "execution_count": null,
      "outputs": [
        {
          "output_type": "execute_result",
          "data": {
            "text/plain": [
              "Index(['Title', 'Author', 'Edition', 'Reviews', 'Ratings', 'Synopsis', 'Genre',\n",
              "       'BookCategory', 'Price'],\n",
              "      dtype='object')"
            ]
          },
          "metadata": {
            "tags": []
          },
          "execution_count": 12
        }
      ]
    },
    {
      "cell_type": "code",
      "metadata": {
        "id": "H7pnuE_QyiwT",
        "outputId": "697dcaa4-af57-4912-8ebd-7ee64598b4b3",
        "colab": {
          "base_uri": "https://localhost:8080/",
          "height": 187
        }
      },
      "source": [
        "# no misssing value in book train \n",
        "book_train.isnull().sum()"
      ],
      "execution_count": null,
      "outputs": [
        {
          "output_type": "execute_result",
          "data": {
            "text/plain": [
              "Title           0\n",
              "Author          0\n",
              "Edition         0\n",
              "Reviews         0\n",
              "Ratings         0\n",
              "Synopsis        0\n",
              "Genre           0\n",
              "BookCategory    0\n",
              "Price           0\n",
              "dtype: int64"
            ]
          },
          "metadata": {
            "tags": []
          },
          "execution_count": 14
        }
      ]
    },
    {
      "cell_type": "code",
      "metadata": {
        "id": "Rcud577pyisl",
        "outputId": "1b8d8416-f504-4182-d7aa-3e1d76bf69fe",
        "colab": {
          "base_uri": "https://localhost:8080/",
          "height": 170
        }
      },
      "source": [
        "# no missing value in book test\n",
        "book_test.isnull().sum()"
      ],
      "execution_count": null,
      "outputs": [
        {
          "output_type": "execute_result",
          "data": {
            "text/plain": [
              "Title           0\n",
              "Author          0\n",
              "Edition         0\n",
              "Reviews         0\n",
              "Ratings         0\n",
              "Synopsis        0\n",
              "Genre           0\n",
              "BookCategory    0\n",
              "dtype: int64"
            ]
          },
          "metadata": {
            "tags": []
          },
          "execution_count": 15
        }
      ]
    },
    {
      "cell_type": "code",
      "metadata": {
        "id": "5D0a7yFByiou"
      },
      "source": [
        "# dropping unwanted columns i.e synopsis\n",
        "book_train = book_train.drop(['Synopsis'],axis = 1)\n",
        "book_test = book_test.drop(['Synopsis'],axis=1)"
      ],
      "execution_count": null,
      "outputs": []
    },
    {
      "cell_type": "code",
      "metadata": {
        "id": "imQppvRbyijJ",
        "outputId": "15450ade-9940-4c32-c49b-f9e879d9c257",
        "colab": {
          "base_uri": "https://localhost:8080/",
          "height": 179
        }
      },
      "source": [
        "book_train.head(2)"
      ],
      "execution_count": null,
      "outputs": [
        {
          "output_type": "execute_result",
          "data": {
            "text/html": [
              "<div>\n",
              "<style scoped>\n",
              "    .dataframe tbody tr th:only-of-type {\n",
              "        vertical-align: middle;\n",
              "    }\n",
              "\n",
              "    .dataframe tbody tr th {\n",
              "        vertical-align: top;\n",
              "    }\n",
              "\n",
              "    .dataframe thead th {\n",
              "        text-align: right;\n",
              "    }\n",
              "</style>\n",
              "<table border=\"1\" class=\"dataframe\">\n",
              "  <thead>\n",
              "    <tr style=\"text-align: right;\">\n",
              "      <th></th>\n",
              "      <th>Title</th>\n",
              "      <th>Author</th>\n",
              "      <th>Edition</th>\n",
              "      <th>Reviews</th>\n",
              "      <th>Ratings</th>\n",
              "      <th>Genre</th>\n",
              "      <th>BookCategory</th>\n",
              "      <th>Price</th>\n",
              "    </tr>\n",
              "  </thead>\n",
              "  <tbody>\n",
              "    <tr>\n",
              "      <th>0</th>\n",
              "      <td>The Prisoner's Gold (The Hunters 3)</td>\n",
              "      <td>Chris Kuzneski</td>\n",
              "      <td>Paperback,– 10 Mar 2016</td>\n",
              "      <td>4.0 out of 5 stars</td>\n",
              "      <td>8 customer reviews</td>\n",
              "      <td>Action &amp; Adventure (Books)</td>\n",
              "      <td>Action &amp; Adventure</td>\n",
              "      <td>220.00</td>\n",
              "    </tr>\n",
              "    <tr>\n",
              "      <th>1</th>\n",
              "      <td>Guru Dutt: A Tragedy in Three Acts</td>\n",
              "      <td>Arun Khopkar</td>\n",
              "      <td>Paperback,– 7 Nov 2012</td>\n",
              "      <td>3.9 out of 5 stars</td>\n",
              "      <td>14 customer reviews</td>\n",
              "      <td>Cinema &amp; Broadcast (Books)</td>\n",
              "      <td>Biographies, Diaries &amp; True Accounts</td>\n",
              "      <td>202.93</td>\n",
              "    </tr>\n",
              "  </tbody>\n",
              "</table>\n",
              "</div>"
            ],
            "text/plain": [
              "                                 Title  ...   Price\n",
              "0  The Prisoner's Gold (The Hunters 3)  ...  220.00\n",
              "1   Guru Dutt: A Tragedy in Three Acts  ...  202.93\n",
              "\n",
              "[2 rows x 8 columns]"
            ]
          },
          "metadata": {
            "tags": []
          },
          "execution_count": 17
        }
      ]
    },
    {
      "cell_type": "code",
      "metadata": {
        "id": "8uya_i642kbf",
        "outputId": "85029e09-ee3b-4a22-db44-088720be8a17",
        "colab": {
          "base_uri": "https://localhost:8080/",
          "height": 179
        }
      },
      "source": [
        "book_test.head(2)"
      ],
      "execution_count": null,
      "outputs": [
        {
          "output_type": "execute_result",
          "data": {
            "text/html": [
              "<div>\n",
              "<style scoped>\n",
              "    .dataframe tbody tr th:only-of-type {\n",
              "        vertical-align: middle;\n",
              "    }\n",
              "\n",
              "    .dataframe tbody tr th {\n",
              "        vertical-align: top;\n",
              "    }\n",
              "\n",
              "    .dataframe thead th {\n",
              "        text-align: right;\n",
              "    }\n",
              "</style>\n",
              "<table border=\"1\" class=\"dataframe\">\n",
              "  <thead>\n",
              "    <tr style=\"text-align: right;\">\n",
              "      <th></th>\n",
              "      <th>Title</th>\n",
              "      <th>Author</th>\n",
              "      <th>Edition</th>\n",
              "      <th>Reviews</th>\n",
              "      <th>Ratings</th>\n",
              "      <th>Genre</th>\n",
              "      <th>BookCategory</th>\n",
              "    </tr>\n",
              "  </thead>\n",
              "  <tbody>\n",
              "    <tr>\n",
              "      <th>0</th>\n",
              "      <td>The Complete Sherlock Holmes: 2 Boxes sets</td>\n",
              "      <td>Sir Arthur Conan Doyle</td>\n",
              "      <td>Mass Market Paperback,– 1 Oct 1986</td>\n",
              "      <td>4.4 out of 5 stars</td>\n",
              "      <td>960 customer reviews</td>\n",
              "      <td>Short Stories (Books)</td>\n",
              "      <td>Crime, Thriller &amp; Mystery</td>\n",
              "    </tr>\n",
              "    <tr>\n",
              "      <th>1</th>\n",
              "      <td>Learn Docker - Fundamentals of Docker 18.x: Ev...</td>\n",
              "      <td>Gabriel N. Schenker</td>\n",
              "      <td>Paperback,– Import, 26 Apr 2018</td>\n",
              "      <td>5.0 out of 5 stars</td>\n",
              "      <td>1 customer review</td>\n",
              "      <td>Operating Systems Textbooks</td>\n",
              "      <td>Computing, Internet &amp; Digital Media</td>\n",
              "    </tr>\n",
              "  </tbody>\n",
              "</table>\n",
              "</div>"
            ],
            "text/plain": [
              "                                               Title  ...                         BookCategory\n",
              "0         The Complete Sherlock Holmes: 2 Boxes sets  ...            Crime, Thriller & Mystery\n",
              "1  Learn Docker - Fundamentals of Docker 18.x: Ev...  ...  Computing, Internet & Digital Media\n",
              "\n",
              "[2 rows x 7 columns]"
            ]
          },
          "metadata": {
            "tags": []
          },
          "execution_count": 18
        }
      ]
    },
    {
      "cell_type": "code",
      "metadata": {
        "id": "zqDvOhPJ2pgl"
      },
      "source": [
        "# cleaning the edition columns \n",
        "def split_edition(data):  \n",
        "  \n",
        "  edition  = list(data)\n",
        "  \n",
        "  ed_type = [i.split(\",– \")[0].strip().upper() for i in edition]\n",
        "  \n",
        "  edit_date = [i.split(\",– \")[1].strip() for i in edition]\n",
        "  \n",
        "  m_y = [i.split()[-2:] for i in edit_date]\n",
        "  \n",
        "  \n",
        "  for i in range(len(m_y)):\n",
        "    if len(m_y[i]) == 1:\n",
        "      m_y[i].insert(0,'NA')\n",
        "      \n",
        "  # Based on the given dataset below is the list of possible values for Months\n",
        "  \n",
        "  months =  ['Apr','Aug','Dec','Feb', 'Jan', 'Jul','Jun','Mar','May','NA','Nov','Oct','Sep']\n",
        "  \n",
        "  ed_month = [m_y[i][0].upper() if m_y[i][0] in months else 'NA' for i in range(len(m_y))]\n",
        "  ed_year = [int(m_y[i][1].strip()) if m_y[i][1].isdigit() else 0 for i in range(len(m_y))]\n",
        "  \n",
        "  return ed_type, ed_month, ed_year"
      ],
      "execution_count": null,
      "outputs": []
    },
    {
      "cell_type": "code",
      "metadata": {
        "id": "2kD96_oG2pZn",
        "outputId": "7f0a8406-140e-472b-c4e8-c01ceddde0a5",
        "colab": {
          "base_uri": "https://localhost:8080/",
          "height": 51
        }
      },
      "source": [
        "#Identifying the maximum number of authors for a single book from the given datasets\n",
        "authors_1 = list(book_train['Author'])\n",
        "authors_2 = list(book_test['Author'])\n",
        "\n",
        "authors_1.extend(authors_2)\n",
        "\n",
        "authorslis = [i.split(\",\") for i in authors_1]\n",
        "\n",
        "max = 1\n",
        "for i in authorslis:\n",
        "  if len(i) >= max:\n",
        "    max = len(i)\n",
        "print(\"Max. number of authors for a single boook = \",max)\n",
        "\n",
        "for i in range(len(authorslis)):\n",
        "  if len(authorslis[i]) == max:\n",
        "    print(i)    \n",
        "    \n",
        "all_authors = [author.strip().upper() for listin in authorslis for author in listin]"
      ],
      "execution_count": null,
      "outputs": [
        {
          "output_type": "stream",
          "text": [
            "Max. number of authors for a single boook =  7\n",
            "7008\n"
          ],
          "name": "stdout"
        }
      ]
    },
    {
      "cell_type": "code",
      "metadata": {
        "id": "A03LjX852pXQ"
      },
      "source": [
        "# splitting into seven authors \n",
        "# A method to split the Author column in to 7 new columns\n",
        "def split_authors(data):\n",
        "  \n",
        "  authors = list(data)\n",
        "  \n",
        "  A1 = []\n",
        "  A2 = []\n",
        "  A3 = []\n",
        "  A4 = []\n",
        "  A5 = []\n",
        "  A6 = []\n",
        "  A7 = []\n",
        "  for i in authors:\n",
        "    \n",
        "    try :\n",
        "      A1.append(i.split(',')[0].strip().upper())\n",
        "    except :\n",
        "      A1.append('NONE')\n",
        "      \n",
        "    try :\n",
        "      A2.append(i.split(',')[1].strip().upper())\n",
        "    except :\n",
        "      A2.append('NONE')\n",
        "        \n",
        "    try :\n",
        "      A3.append(i.split(',')[2].strip().upper())\n",
        "    except :\n",
        "      A3.append('NONE')\n",
        "        \n",
        "    try :\n",
        "      A4.append(i.split(',')[3].strip().upper())\n",
        "    except :\n",
        "      A4.append('NONE')\n",
        "        \n",
        "    try :\n",
        "      A5.append(i.split(',')[4].strip().upper())\n",
        "    except :\n",
        "      A5.append('NONE')\n",
        "      \n",
        "    try :\n",
        "      A6.append(i.split(',')[5].strip().upper())\n",
        "    except :\n",
        "      A6.append('NONE')\n",
        "     \n",
        "    try :\n",
        "      A7.append(i.split(',')[6].strip().upper())\n",
        "    except :\n",
        "      A7.append('NONE')\n",
        "\n",
        "      \n",
        "  return A1,A2,A3,A4,A5,A6,A7\n",
        "  \n",
        "all_authors.append('NONE')"
      ],
      "execution_count": null,
      "outputs": []
    },
    {
      "cell_type": "code",
      "metadata": {
        "id": "zCKmiFzz2pUs",
        "outputId": "13f06258-4906-4a2a-dd70-3ab08fc2259f",
        "colab": {
          "base_uri": "https://localhost:8080/",
          "height": 34
        }
      },
      "source": [
        "#Identifying the maximum number of Genres for a single book from the given datasets\n",
        "\n",
        "genre_1 = list(book_train['Genre'])\n",
        "genre_2 = list(book_test['Genre'])\n",
        "\n",
        "genre_1.extend(genre_2)\n",
        "\n",
        "genre_lis = [i.split(\",\") for i in genre_1]\n",
        "\n",
        "\n",
        "max = 1\n",
        "for i in genre_lis:\n",
        "  if len(i) >= max:\n",
        "    max = len(i)\n",
        "print(\"Max. number of genres for a single boook = \",max)\n",
        "      \n",
        "all_genres = [genre.strip().upper() for listin in genre_lis for genre in listin]"
      ],
      "execution_count": null,
      "outputs": [
        {
          "output_type": "stream",
          "text": [
            "Max. number of genres for a single boook =  2\n"
          ],
          "name": "stdout"
        }
      ]
    },
    {
      "cell_type": "code",
      "metadata": {
        "id": "fYPxmt8O2pSW"
      },
      "source": [
        "# A method to split the Genre column in to 2 new columns \n",
        "\n",
        "def split_genres(data):\n",
        "  \n",
        "  genres = list(data)\n",
        "  \n",
        "  G1 = []\n",
        "  G2 = []\n",
        "  \n",
        "  for i in genres:\n",
        "    \n",
        "    try :\n",
        "      G1.append(i.split(',')[0].strip().upper())\n",
        "      \n",
        "    except :\n",
        "      G1.append('NONE')\n",
        "      \n",
        "    try :\n",
        "      G2.append(i.split(',')[1].strip().upper())\n",
        "    except :\n",
        "      G2.append('NONE')\n",
        "\n",
        "\n",
        "      \n",
        "  return G1,G2\n",
        "  \n",
        "all_genres.append('NONE')"
      ],
      "execution_count": null,
      "outputs": []
    },
    {
      "cell_type": "code",
      "metadata": {
        "id": "PV456jxZ2pPn",
        "outputId": "50e6fc13-958d-4156-acbd-06b15525ad94",
        "colab": {
          "base_uri": "https://localhost:8080/",
          "height": 34
        }
      },
      "source": [
        "#Identifying the maximum number of Categories for a single book from the given datasets\n",
        "\n",
        "cat_1 = list(book_train['BookCategory'])\n",
        "cat_2 = list(book_test['BookCategory'])\n",
        "\n",
        "cat_1.extend(cat_2)\n",
        "\n",
        "cat_lis = [i.split(\",\") for i in cat_1]\n",
        "\n",
        "\n",
        "max = 1\n",
        "for i in cat_lis:\n",
        "  if len(i) >= max:\n",
        "    max = len(i)\n",
        "print(\"Max. number of Categories for a single boook = \",max)\n",
        "\n",
        "all_categories = [cat.strip().upper() for listin in cat_lis for cat in listin]"
      ],
      "execution_count": null,
      "outputs": [
        {
          "output_type": "stream",
          "text": [
            "Max. number of Categories for a single boook =  2\n"
          ],
          "name": "stdout"
        }
      ]
    },
    {
      "cell_type": "code",
      "metadata": {
        "id": "KfQ0rIgC2pMN"
      },
      "source": [
        "# A method to split the Category column in to 2 new columsn \n",
        "\n",
        "def split_categories(data):\n",
        "  \n",
        "  cat = list(data)\n",
        "  \n",
        "  C1 = []\n",
        "  C2 = []\n",
        "\n",
        "  for i in cat:\n",
        "    \n",
        "    try :\n",
        "      C1.append(i.split(',')[0].strip().upper())\n",
        "    except :\n",
        "      C1.append('NONE')\n",
        "      \n",
        "    try :\n",
        "      C2.append(i.split(',')[1].strip().upper())\n",
        "    except :\n",
        "      C2.append('NONE')\n",
        "\n",
        "\n",
        "      \n",
        "  return C1,C2\n",
        "  \n",
        "all_categories.append('NONE')"
      ],
      "execution_count": null,
      "outputs": []
    },
    {
      "cell_type": "code",
      "metadata": {
        "id": "vmMGfxgf2pIt"
      },
      "source": [
        "# A method to clean and restructure the datasets\n",
        "\n",
        "import re\n",
        "\n",
        "def restructure(data):\n",
        "  \n",
        "  #Cleaning Title Column\n",
        "  titles = list(data['Title'])\n",
        "  titles = [title.strip().upper() for title in titles]\n",
        "  \n",
        "  #Cleaning & Restructuring Author Column\n",
        "  a1,a2,a3,a4,a5,a6,a7 = split_authors(data['Author']) \n",
        "  \n",
        "  #Cleaning & Restructuring Edition Column\n",
        "  ed_type, ed_month, ed_year = split_edition(data['Edition'])\n",
        "  \n",
        "  #Cleaning Ratings Column\n",
        "  ratings = list(data['Reviews'])\n",
        "  ratings = [float(re.sub(\" out of 5 stars\", \"\", i).strip()) for i in ratings]\n",
        "  \n",
        "  #Cleaning Reviews Column\n",
        "  reviews = list(data['Ratings'])\n",
        "  plu = ' customer reviews'\n",
        "  reviews = [re.sub(\" customer reviews\", \"\", i) if plu in i else re.sub(\" customer review\", \"\", i) for i in reviews  ]\n",
        "  reviews = [int(re.sub(\",\", \"\", i).strip()) for i in reviews ]\n",
        "  \n",
        "\n",
        "  #Cleaning & Restructuring Genre Column\n",
        "  g1, g2 = split_genres(data['Genre'])\n",
        "  \n",
        "  #Cleaning & Restructuring BookCategory Column\n",
        "  c1,c2 = split_categories(data['BookCategory'])\n",
        "\n",
        "  # Forming the Structured dataset\n",
        "  structured_data = pd.DataFrame({'Title': titles,\n",
        "                                  'Author1': a1,\n",
        "                                  'Author2': a2,\n",
        "                                  'Author3': a3,\n",
        "                                  'Author4': a4,\n",
        "                                  'Author5': a5,\n",
        "                                  'Author6': a6,\n",
        "                                  'Author7': a7,\n",
        "                                  'Edition_Type': ed_type,\n",
        "                                  'Edition_Month': ed_month,\n",
        "                                  'Edition_Year': ed_year,\n",
        "                                  'Ratings': ratings,\n",
        "                                  'Reviews': reviews,\n",
        "                                  'Genre1': g1,\n",
        "                                  'Genre2': g2,\n",
        "                                  'Category1': c1,\n",
        "                                  'Category2': c2\n",
        "                                  \n",
        "                               })\n",
        "  \n",
        "  return structured_data"
      ],
      "execution_count": null,
      "outputs": []
    },
    {
      "cell_type": "code",
      "metadata": {
        "id": "jvaihSQK8pDC",
        "outputId": "ce34c2e0-0ea8-42e9-dfd6-928f73d254cc",
        "colab": {
          "base_uri": "https://localhost:8080/",
          "height": 298
        }
      },
      "source": [
        "restructure(book_train).head(3)"
      ],
      "execution_count": null,
      "outputs": [
        {
          "output_type": "execute_result",
          "data": {
            "text/html": [
              "<div>\n",
              "<style scoped>\n",
              "    .dataframe tbody tr th:only-of-type {\n",
              "        vertical-align: middle;\n",
              "    }\n",
              "\n",
              "    .dataframe tbody tr th {\n",
              "        vertical-align: top;\n",
              "    }\n",
              "\n",
              "    .dataframe thead th {\n",
              "        text-align: right;\n",
              "    }\n",
              "</style>\n",
              "<table border=\"1\" class=\"dataframe\">\n",
              "  <thead>\n",
              "    <tr style=\"text-align: right;\">\n",
              "      <th></th>\n",
              "      <th>Title</th>\n",
              "      <th>Author1</th>\n",
              "      <th>Author2</th>\n",
              "      <th>Author3</th>\n",
              "      <th>Author4</th>\n",
              "      <th>Author5</th>\n",
              "      <th>Author6</th>\n",
              "      <th>Author7</th>\n",
              "      <th>Edition_Type</th>\n",
              "      <th>Edition_Month</th>\n",
              "      <th>Edition_Year</th>\n",
              "      <th>Ratings</th>\n",
              "      <th>Reviews</th>\n",
              "      <th>Genre1</th>\n",
              "      <th>Genre2</th>\n",
              "      <th>Category1</th>\n",
              "      <th>Category2</th>\n",
              "    </tr>\n",
              "  </thead>\n",
              "  <tbody>\n",
              "    <tr>\n",
              "      <th>0</th>\n",
              "      <td>THE PRISONER'S GOLD (THE HUNTERS 3)</td>\n",
              "      <td>CHRIS KUZNESKI</td>\n",
              "      <td>NONE</td>\n",
              "      <td>NONE</td>\n",
              "      <td>NONE</td>\n",
              "      <td>NONE</td>\n",
              "      <td>NONE</td>\n",
              "      <td>NONE</td>\n",
              "      <td>PAPERBACK</td>\n",
              "      <td>MAR</td>\n",
              "      <td>2016</td>\n",
              "      <td>4.0</td>\n",
              "      <td>8</td>\n",
              "      <td>ACTION &amp; ADVENTURE (BOOKS)</td>\n",
              "      <td>NONE</td>\n",
              "      <td>ACTION &amp; ADVENTURE</td>\n",
              "      <td>NONE</td>\n",
              "    </tr>\n",
              "    <tr>\n",
              "      <th>1</th>\n",
              "      <td>GURU DUTT: A TRAGEDY IN THREE ACTS</td>\n",
              "      <td>ARUN KHOPKAR</td>\n",
              "      <td>NONE</td>\n",
              "      <td>NONE</td>\n",
              "      <td>NONE</td>\n",
              "      <td>NONE</td>\n",
              "      <td>NONE</td>\n",
              "      <td>NONE</td>\n",
              "      <td>PAPERBACK</td>\n",
              "      <td>NOV</td>\n",
              "      <td>2012</td>\n",
              "      <td>3.9</td>\n",
              "      <td>14</td>\n",
              "      <td>CINEMA &amp; BROADCAST (BOOKS)</td>\n",
              "      <td>NONE</td>\n",
              "      <td>BIOGRAPHIES</td>\n",
              "      <td>DIARIES &amp; TRUE ACCOUNTS</td>\n",
              "    </tr>\n",
              "    <tr>\n",
              "      <th>2</th>\n",
              "      <td>LEVIATHAN (PENGUIN CLASSICS)</td>\n",
              "      <td>THOMAS HOBBES</td>\n",
              "      <td>NONE</td>\n",
              "      <td>NONE</td>\n",
              "      <td>NONE</td>\n",
              "      <td>NONE</td>\n",
              "      <td>NONE</td>\n",
              "      <td>NONE</td>\n",
              "      <td>PAPERBACK</td>\n",
              "      <td>FEB</td>\n",
              "      <td>1982</td>\n",
              "      <td>4.8</td>\n",
              "      <td>6</td>\n",
              "      <td>INTERNATIONAL RELATIONS</td>\n",
              "      <td>NONE</td>\n",
              "      <td>HUMOUR</td>\n",
              "      <td>NONE</td>\n",
              "    </tr>\n",
              "  </tbody>\n",
              "</table>\n",
              "</div>"
            ],
            "text/plain": [
              "                                 Title  ...                Category2\n",
              "0  THE PRISONER'S GOLD (THE HUNTERS 3)  ...                     NONE\n",
              "1   GURU DUTT: A TRAGEDY IN THREE ACTS  ...  DIARIES & TRUE ACCOUNTS\n",
              "2         LEVIATHAN (PENGUIN CLASSICS)  ...                     NONE\n",
              "\n",
              "[3 rows x 17 columns]"
            ]
          },
          "metadata": {
            "tags": []
          },
          "execution_count": 31
        }
      ]
    },
    {
      "cell_type": "code",
      "metadata": {
        "id": "eBJkDzGs8o_k"
      },
      "source": [
        "X_train = restructure(book_train)\n",
        "\n",
        "Y_train = book_train.iloc[:, -1].values\n",
        "\n",
        "X_test = restructure(book_test)"
      ],
      "execution_count": null,
      "outputs": []
    },
    {
      "cell_type": "code",
      "metadata": {
        "id": "QRwyfvhL8o6L"
      },
      "source": [
        "# encoding the data"
      ],
      "execution_count": null,
      "outputs": []
    },
    {
      "cell_type": "code",
      "metadata": {
        "id": "uFiQSZxB2pD4"
      },
      "source": [
        "# A method for Finding Unique items for all columns\n",
        "def unique_items(list1, list2):\n",
        "  a = list1\n",
        "  b = list2\n",
        "  a.extend(b)\n",
        "  return list(set(a))"
      ],
      "execution_count": null,
      "outputs": []
    },
    {
      "cell_type": "code",
      "metadata": {
        "id": "qBMyY5Ka-f3M",
        "outputId": "b4e3ec97-42f9-4aa3-cd47-49569ac756ea",
        "colab": {
          "base_uri": "https://localhost:8080/",
          "height": 34
        }
      },
      "source": [
        "from sklearn.preprocessing import LabelEncoder\n",
        "\n",
        "le_Title = LabelEncoder()\n",
        "all_titles = unique_items(list(X_train.Title),list(X_test.Title))\n",
        "le_Title.fit(all_titles)\n",
        "\n",
        "le_Edition_Type = LabelEncoder()\n",
        "all_etypes = unique_items(list(X_train.Edition_Type),list(X_test.Edition_Type))\n",
        "le_Edition_Type.fit(all_etypes)\n",
        "\n",
        "\n",
        "le_Edition_Month = LabelEncoder()\n",
        "all_em = unique_items(list(X_train.Edition_Month),list(X_test.Edition_Month))\n",
        "le_Edition_Month.fit(all_em)\n",
        "\n",
        "le_Author = LabelEncoder()\n",
        "all_Authors = list(set(all_authors))\n",
        "le_Author.fit(all_Authors)\n",
        "\n",
        "le_Genre = LabelEncoder()\n",
        "all_Genres = list(set(all_genres))\n",
        "le_Genre.fit(all_Genres)\n",
        "\n",
        "le_Category = LabelEncoder()\n",
        "all_Categories = list(set(all_categories))\n",
        "le_Category.fit(all_Categories)"
      ],
      "execution_count": null,
      "outputs": [
        {
          "output_type": "execute_result",
          "data": {
            "text/plain": [
              "LabelEncoder()"
            ]
          },
          "metadata": {
            "tags": []
          },
          "execution_count": 35
        }
      ]
    },
    {
      "cell_type": "code",
      "metadata": {
        "id": "6OFhMl6D-gRs"
      },
      "source": [
        "X_train['Title'] = le_Title.transform(X_train['Title'])\n",
        "\n",
        "X_train['Edition_Type'] = le_Edition_Type.transform(X_train['Edition_Type'])\n",
        "\n",
        "\n",
        "\n",
        "X_train['Edition_Month'] = le_Edition_Month.transform(X_train['Edition_Month'])\n",
        "\n",
        "X_train['Author1'] = le_Author.transform(X_train['Author1'])\n",
        "X_train['Author2'] = le_Author.transform(X_train['Author2'])\n",
        "X_train['Author3'] = le_Author.transform(X_train['Author3'])\n",
        "X_train['Author4'] = le_Author.transform(X_train['Author4'])\n",
        "X_train['Author5'] = le_Author.transform(X_train['Author5'])\n",
        "X_train['Author6'] = le_Author.transform(X_train['Author6'])\n",
        "X_train['Author7'] = le_Author.transform(X_train['Author7'])\n",
        "\n",
        "\n",
        "X_train['Genre1'] = le_Genre.transform(X_train['Genre1'])\n",
        "X_train['Genre2'] = le_Genre.transform(X_train['Genre2'])\n",
        "\n",
        "\n",
        "X_train['Category1'] = le_Category.transform(X_train['Category1'])\n",
        "X_train['Category2'] = le_Category.transform(X_train['Category2'])"
      ],
      "execution_count": null,
      "outputs": []
    },
    {
      "cell_type": "code",
      "metadata": {
        "id": "aR7LJe66-gOR",
        "outputId": "a0e6f48f-71f5-427d-ac6e-2763f2dbd7b3",
        "colab": {
          "base_uri": "https://localhost:8080/",
          "height": 224
        }
      },
      "source": [
        "X_train.head()"
      ],
      "execution_count": null,
      "outputs": [
        {
          "output_type": "execute_result",
          "data": {
            "text/html": [
              "<div>\n",
              "<style scoped>\n",
              "    .dataframe tbody tr th:only-of-type {\n",
              "        vertical-align: middle;\n",
              "    }\n",
              "\n",
              "    .dataframe tbody tr th {\n",
              "        vertical-align: top;\n",
              "    }\n",
              "\n",
              "    .dataframe thead th {\n",
              "        text-align: right;\n",
              "    }\n",
              "</style>\n",
              "<table border=\"1\" class=\"dataframe\">\n",
              "  <thead>\n",
              "    <tr style=\"text-align: right;\">\n",
              "      <th></th>\n",
              "      <th>Title</th>\n",
              "      <th>Author1</th>\n",
              "      <th>Author2</th>\n",
              "      <th>Author3</th>\n",
              "      <th>Author4</th>\n",
              "      <th>Author5</th>\n",
              "      <th>Author6</th>\n",
              "      <th>Author7</th>\n",
              "      <th>Edition_Type</th>\n",
              "      <th>Edition_Month</th>\n",
              "      <th>Edition_Year</th>\n",
              "      <th>Ratings</th>\n",
              "      <th>Reviews</th>\n",
              "      <th>Genre1</th>\n",
              "      <th>Genre2</th>\n",
              "      <th>Category1</th>\n",
              "      <th>Category2</th>\n",
              "    </tr>\n",
              "  </thead>\n",
              "  <tbody>\n",
              "    <tr>\n",
              "      <th>0</th>\n",
              "      <td>5802</td>\n",
              "      <td>797</td>\n",
              "      <td>3073</td>\n",
              "      <td>3073</td>\n",
              "      <td>3073</td>\n",
              "      <td>3073</td>\n",
              "      <td>3073</td>\n",
              "      <td>3073</td>\n",
              "      <td>13</td>\n",
              "      <td>7</td>\n",
              "      <td>2016</td>\n",
              "      <td>4.0</td>\n",
              "      <td>8</td>\n",
              "      <td>0</td>\n",
              "      <td>267</td>\n",
              "      <td>0</td>\n",
              "      <td>12</td>\n",
              "    </tr>\n",
              "    <tr>\n",
              "      <th>1</th>\n",
              "      <td>2120</td>\n",
              "      <td>391</td>\n",
              "      <td>3073</td>\n",
              "      <td>3073</td>\n",
              "      <td>3073</td>\n",
              "      <td>3073</td>\n",
              "      <td>3073</td>\n",
              "      <td>3073</td>\n",
              "      <td>13</td>\n",
              "      <td>10</td>\n",
              "      <td>2012</td>\n",
              "      <td>3.9</td>\n",
              "      <td>14</td>\n",
              "      <td>80</td>\n",
              "      <td>267</td>\n",
              "      <td>2</td>\n",
              "      <td>6</td>\n",
              "    </tr>\n",
              "    <tr>\n",
              "      <th>2</th>\n",
              "      <td>2984</td>\n",
              "      <td>4353</td>\n",
              "      <td>3073</td>\n",
              "      <td>3073</td>\n",
              "      <td>3073</td>\n",
              "      <td>3073</td>\n",
              "      <td>3073</td>\n",
              "      <td>3073</td>\n",
              "      <td>13</td>\n",
              "      <td>3</td>\n",
              "      <td>1982</td>\n",
              "      <td>4.8</td>\n",
              "      <td>6</td>\n",
              "      <td>211</td>\n",
              "      <td>267</td>\n",
              "      <td>8</td>\n",
              "      <td>12</td>\n",
              "    </tr>\n",
              "    <tr>\n",
              "      <th>3</th>\n",
              "      <td>189</td>\n",
              "      <td>78</td>\n",
              "      <td>3073</td>\n",
              "      <td>3073</td>\n",
              "      <td>3073</td>\n",
              "      <td>3073</td>\n",
              "      <td>3073</td>\n",
              "      <td>3073</td>\n",
              "      <td>13</td>\n",
              "      <td>11</td>\n",
              "      <td>2017</td>\n",
              "      <td>4.1</td>\n",
              "      <td>13</td>\n",
              "      <td>98</td>\n",
              "      <td>267</td>\n",
              "      <td>5</td>\n",
              "      <td>16</td>\n",
              "    </tr>\n",
              "    <tr>\n",
              "      <th>4</th>\n",
              "      <td>2987</td>\n",
              "      <td>1221</td>\n",
              "      <td>3073</td>\n",
              "      <td>3073</td>\n",
              "      <td>3073</td>\n",
              "      <td>3073</td>\n",
              "      <td>3073</td>\n",
              "      <td>3073</td>\n",
              "      <td>8</td>\n",
              "      <td>11</td>\n",
              "      <td>2006</td>\n",
              "      <td>5.0</td>\n",
              "      <td>1</td>\n",
              "      <td>284</td>\n",
              "      <td>267</td>\n",
              "      <td>1</td>\n",
              "      <td>7</td>\n",
              "    </tr>\n",
              "  </tbody>\n",
              "</table>\n",
              "</div>"
            ],
            "text/plain": [
              "   Title  Author1  Author2  Author3  ...  Genre1  Genre2  Category1  Category2\n",
              "0   5802      797     3073     3073  ...       0     267          0         12\n",
              "1   2120      391     3073     3073  ...      80     267          2          6\n",
              "2   2984     4353     3073     3073  ...     211     267          8         12\n",
              "3    189       78     3073     3073  ...      98     267          5         16\n",
              "4   2987     1221     3073     3073  ...     284     267          1          7\n",
              "\n",
              "[5 rows x 17 columns]"
            ]
          },
          "metadata": {
            "tags": []
          },
          "execution_count": 37
        }
      ]
    },
    {
      "cell_type": "code",
      "metadata": {
        "id": "xhD6OALI-gLc"
      },
      "source": [
        "X_test['Title'] = le_Title.transform(X_test['Title'])\n",
        "\n",
        "X_test['Edition_Type'] = le_Edition_Type.transform(X_test['Edition_Type'])\n",
        "\n",
        "X_test['Edition_Month'] = le_Edition_Month.transform(X_test['Edition_Month'])\n",
        "\n",
        "X_test['Author1'] = le_Author.transform(X_test['Author1'])\n",
        "X_test['Author2'] = le_Author.transform(X_test['Author2'])\n",
        "X_test['Author3'] = le_Author.transform(X_test['Author3'])\n",
        "X_test['Author4'] = le_Author.transform(X_test['Author4'])\n",
        "X_test['Author5'] = le_Author.transform(X_test['Author5'])\n",
        "X_test['Author6'] = le_Author.transform(X_test['Author6'])\n",
        "X_test['Author7'] = le_Author.transform(X_test['Author7'])\n",
        "\n",
        "\n",
        "X_test['Genre1'] = le_Genre.transform(X_test['Genre1'])\n",
        "X_test['Genre2'] = le_Genre.transform(X_test['Genre2'])\n",
        "\n",
        "\n",
        "X_test['Category1'] = le_Category.transform(X_test['Category1'])\n",
        "X_test['Category2'] = le_Category.transform(X_test['Category2'])"
      ],
      "execution_count": null,
      "outputs": []
    },
    {
      "cell_type": "code",
      "metadata": {
        "id": "fgBExsQs-gIq",
        "outputId": "73b0ff0a-d7c2-4ef3-c077-f548a588d239",
        "colab": {
          "base_uri": "https://localhost:8080/",
          "height": 224
        }
      },
      "source": [
        "X_test.head()"
      ],
      "execution_count": null,
      "outputs": [
        {
          "output_type": "execute_result",
          "data": {
            "text/html": [
              "<div>\n",
              "<style scoped>\n",
              "    .dataframe tbody tr th:only-of-type {\n",
              "        vertical-align: middle;\n",
              "    }\n",
              "\n",
              "    .dataframe tbody tr th {\n",
              "        vertical-align: top;\n",
              "    }\n",
              "\n",
              "    .dataframe thead th {\n",
              "        text-align: right;\n",
              "    }\n",
              "</style>\n",
              "<table border=\"1\" class=\"dataframe\">\n",
              "  <thead>\n",
              "    <tr style=\"text-align: right;\">\n",
              "      <th></th>\n",
              "      <th>Title</th>\n",
              "      <th>Author1</th>\n",
              "      <th>Author2</th>\n",
              "      <th>Author3</th>\n",
              "      <th>Author4</th>\n",
              "      <th>Author5</th>\n",
              "      <th>Author6</th>\n",
              "      <th>Author7</th>\n",
              "      <th>Edition_Type</th>\n",
              "      <th>Edition_Month</th>\n",
              "      <th>Edition_Year</th>\n",
              "      <th>Ratings</th>\n",
              "      <th>Reviews</th>\n",
              "      <th>Genre1</th>\n",
              "      <th>Genre2</th>\n",
              "      <th>Category1</th>\n",
              "      <th>Category2</th>\n",
              "    </tr>\n",
              "  </thead>\n",
              "  <tbody>\n",
              "    <tr>\n",
              "      <th>0</th>\n",
              "      <td>5082</td>\n",
              "      <td>4058</td>\n",
              "      <td>3073</td>\n",
              "      <td>3073</td>\n",
              "      <td>3073</td>\n",
              "      <td>3073</td>\n",
              "      <td>3073</td>\n",
              "      <td>3073</td>\n",
              "      <td>12</td>\n",
              "      <td>11</td>\n",
              "      <td>1986</td>\n",
              "      <td>4.4</td>\n",
              "      <td>960</td>\n",
              "      <td>324</td>\n",
              "      <td>267</td>\n",
              "      <td>5</td>\n",
              "      <td>16</td>\n",
              "    </tr>\n",
              "    <tr>\n",
              "      <th>1</th>\n",
              "      <td>2906</td>\n",
              "      <td>1401</td>\n",
              "      <td>3073</td>\n",
              "      <td>3073</td>\n",
              "      <td>3073</td>\n",
              "      <td>3073</td>\n",
              "      <td>3073</td>\n",
              "      <td>3073</td>\n",
              "      <td>13</td>\n",
              "      <td>0</td>\n",
              "      <td>2018</td>\n",
              "      <td>5.0</td>\n",
              "      <td>1</td>\n",
              "      <td>273</td>\n",
              "      <td>267</td>\n",
              "      <td>4</td>\n",
              "      <td>9</td>\n",
              "    </tr>\n",
              "    <tr>\n",
              "      <th>2</th>\n",
              "      <td>751</td>\n",
              "      <td>949</td>\n",
              "      <td>3073</td>\n",
              "      <td>3073</td>\n",
              "      <td>3073</td>\n",
              "      <td>3073</td>\n",
              "      <td>3073</td>\n",
              "      <td>3073</td>\n",
              "      <td>13</td>\n",
              "      <td>7</td>\n",
              "      <td>2011</td>\n",
              "      <td>5.0</td>\n",
              "      <td>4</td>\n",
              "      <td>314</td>\n",
              "      <td>267</td>\n",
              "      <td>14</td>\n",
              "      <td>12</td>\n",
              "    </tr>\n",
              "    <tr>\n",
              "      <th>3</th>\n",
              "      <td>6232</td>\n",
              "      <td>169</td>\n",
              "      <td>3073</td>\n",
              "      <td>3073</td>\n",
              "      <td>3073</td>\n",
              "      <td>3073</td>\n",
              "      <td>3073</td>\n",
              "      <td>3073</td>\n",
              "      <td>13</td>\n",
              "      <td>9</td>\n",
              "      <td>2016</td>\n",
              "      <td>4.1</td>\n",
              "      <td>11</td>\n",
              "      <td>295</td>\n",
              "      <td>267</td>\n",
              "      <td>4</td>\n",
              "      <td>9</td>\n",
              "    </tr>\n",
              "    <tr>\n",
              "      <th>4</th>\n",
              "      <td>3790</td>\n",
              "      <td>3505</td>\n",
              "      <td>3073</td>\n",
              "      <td>3073</td>\n",
              "      <td>3073</td>\n",
              "      <td>3073</td>\n",
              "      <td>3073</td>\n",
              "      <td>3073</td>\n",
              "      <td>13</td>\n",
              "      <td>2</td>\n",
              "      <td>2011</td>\n",
              "      <td>4.4</td>\n",
              "      <td>9</td>\n",
              "      <td>235</td>\n",
              "      <td>267</td>\n",
              "      <td>10</td>\n",
              "      <td>11</td>\n",
              "    </tr>\n",
              "  </tbody>\n",
              "</table>\n",
              "</div>"
            ],
            "text/plain": [
              "   Title  Author1  Author2  Author3  ...  Genre1  Genre2  Category1  Category2\n",
              "0   5082     4058     3073     3073  ...     324     267          5         16\n",
              "1   2906     1401     3073     3073  ...     273     267          4          9\n",
              "2    751      949     3073     3073  ...     314     267         14         12\n",
              "3   6232      169     3073     3073  ...     295     267          4          9\n",
              "4   3790     3505     3073     3073  ...     235     267         10         11\n",
              "\n",
              "[5 rows x 17 columns]"
            ]
          },
          "metadata": {
            "tags": []
          },
          "execution_count": 39
        }
      ]
    },
    {
      "cell_type": "code",
      "metadata": {
        "id": "TEaNJsIh-gCa"
      },
      "source": [
        "# Feature Scaling\n",
        "\n",
        "from sklearn.preprocessing import StandardScaler\n",
        "sc = StandardScaler()\n",
        "\n",
        "X_train = sc.fit_transform(X_train)\n",
        "\n",
        "X_test = sc.transform(X_test)\n",
        "\n",
        "#Reshaping ti fit the scaler\n",
        "Y_train = Y_train.reshape((len(Y_train), 1)) \n",
        "\n",
        "Y_train = sc.fit_transform(Y_train)\n",
        "\n",
        "#Restoring the original shape after scaling\n",
        "Y_train = Y_train.ravel()"
      ],
      "execution_count": null,
      "outputs": []
    },
    {
      "cell_type": "code",
      "metadata": {
        "id": "ji-Qzusn-fzL",
        "outputId": "45a787a6-2ebf-4b21-df4c-52db7ec143e9",
        "colab": {
          "base_uri": "https://localhost:8080/",
          "height": 34
        }
      },
      "source": [
        "X_train.shape,Y_train.shape"
      ],
      "execution_count": null,
      "outputs": [
        {
          "output_type": "execute_result",
          "data": {
            "text/plain": [
              "((6237, 17), (6237,))"
            ]
          },
          "metadata": {
            "tags": []
          },
          "execution_count": 42
        }
      ]
    },
    {
      "cell_type": "code",
      "metadata": {
        "id": "2pthumOsAz1R"
      },
      "source": [
        "X=X_train\n",
        "y=Y_train"
      ],
      "execution_count": null,
      "outputs": []
    },
    {
      "cell_type": "code",
      "metadata": {
        "id": "letbuRc3AX5f"
      },
      "source": [
        "from sklearn.model_selection import train_test_split\n",
        "X_train, X_test, y_train, y_test = train_test_split(X,y,test_size=0.15)"
      ],
      "execution_count": null,
      "outputs": []
    },
    {
      "cell_type": "code",
      "metadata": {
        "id": "QsD7C9DQBB3R",
        "outputId": "2077965c-3baa-4499-9dfc-307b6576d409",
        "colab": {
          "base_uri": "https://localhost:8080/",
          "height": 204
        }
      },
      "source": [
        "from sklearn.tree import DecisionTreeRegressor\n",
        "from sklearn.ensemble import RandomForestRegressor\n",
        "from sklearn.svm import SVR\n",
        "from sklearn.neighbors import KNeighborsRegressor\n",
        "from xgboost import XGBRegressor\n",
        "from sklearn.metrics import mean_absolute_error,mean_squared_error,r2_score\n",
        "from sklearn.model_selection import cross_val_score\n",
        "\n",
        "regressors = {\n",
        "    'Decision Tree' : DecisionTreeRegressor(),\n",
        "    'Random Forest' : RandomForestRegressor(),\n",
        "    'Support Vector Machines' : SVR(),\n",
        "    'K-nearest Neighbors' : KNeighborsRegressor(),\n",
        "    'XGBoost' : XGBRegressor(objective='reg:squarederror', max_depth=6, learning_rate=0.1, n_estimators=100, booster = 'gbtree', n_jobs = -1,random_state = 1)\n",
        "}\n",
        "results=pd.DataFrame(columns=['MAE','MSE','R2-score'])\n",
        "for method,func in regressors.items():\n",
        "    func.fit(X_train,y_train)\n",
        "    pred = func.predict(X_test)\n",
        "    results.loc[method]= [mean_absolute_error(y_test,pred),\n",
        "                          mean_squared_error(y_test,pred),\n",
        "                          r2_score(y_test,pred)\n",
        "                         ]\n",
        "results"
      ],
      "execution_count": null,
      "outputs": [
        {
          "output_type": "execute_result",
          "data": {
            "text/html": [
              "<div>\n",
              "<style scoped>\n",
              "    .dataframe tbody tr th:only-of-type {\n",
              "        vertical-align: middle;\n",
              "    }\n",
              "\n",
              "    .dataframe tbody tr th {\n",
              "        vertical-align: top;\n",
              "    }\n",
              "\n",
              "    .dataframe thead th {\n",
              "        text-align: right;\n",
              "    }\n",
              "</style>\n",
              "<table border=\"1\" class=\"dataframe\">\n",
              "  <thead>\n",
              "    <tr style=\"text-align: right;\">\n",
              "      <th></th>\n",
              "      <th>MAE</th>\n",
              "      <th>MSE</th>\n",
              "      <th>R2-score</th>\n",
              "    </tr>\n",
              "  </thead>\n",
              "  <tbody>\n",
              "    <tr>\n",
              "      <th>Decision Tree</th>\n",
              "      <td>0.590936</td>\n",
              "      <td>2.177938</td>\n",
              "      <td>-1.499646</td>\n",
              "    </tr>\n",
              "    <tr>\n",
              "      <th>Random Forest</th>\n",
              "      <td>0.413048</td>\n",
              "      <td>0.681313</td>\n",
              "      <td>0.218049</td>\n",
              "    </tr>\n",
              "    <tr>\n",
              "      <th>Support Vector Machines</th>\n",
              "      <td>0.389484</td>\n",
              "      <td>0.800094</td>\n",
              "      <td>0.081722</td>\n",
              "    </tr>\n",
              "    <tr>\n",
              "      <th>K-nearest Neighbors</th>\n",
              "      <td>0.479680</td>\n",
              "      <td>0.858319</td>\n",
              "      <td>0.014896</td>\n",
              "    </tr>\n",
              "    <tr>\n",
              "      <th>XGBoost</th>\n",
              "      <td>0.415508</td>\n",
              "      <td>0.729778</td>\n",
              "      <td>0.162425</td>\n",
              "    </tr>\n",
              "  </tbody>\n",
              "</table>\n",
              "</div>"
            ],
            "text/plain": [
              "                              MAE       MSE  R2-score\n",
              "Decision Tree            0.590936  2.177938 -1.499646\n",
              "Random Forest            0.413048  0.681313  0.218049\n",
              "Support Vector Machines  0.389484  0.800094  0.081722\n",
              "K-nearest Neighbors      0.479680  0.858319  0.014896\n",
              "XGBoost                  0.415508  0.729778  0.162425"
            ]
          },
          "metadata": {
            "tags": []
          },
          "execution_count": 60
        }
      ]
    },
    {
      "cell_type": "code",
      "metadata": {
        "id": "2QbnpKjXBB0U",
        "outputId": "b53d395f-24a2-43fe-b889-223dc95fe8d9",
        "colab": {
          "base_uri": "https://localhost:8080/",
          "height": 119
        }
      },
      "source": [
        "from sklearn.tree import DecisionTreeRegressor\n",
        "regressor = DecisionTreeRegressor(random_state = 0)\n",
        "regressor.fit(X_train, y_train.ravel())\n"
      ],
      "execution_count": null,
      "outputs": [
        {
          "output_type": "execute_result",
          "data": {
            "text/plain": [
              "DecisionTreeRegressor(ccp_alpha=0.0, criterion='mse', max_depth=None,\n",
              "                      max_features=None, max_leaf_nodes=None,\n",
              "                      min_impurity_decrease=0.0, min_impurity_split=None,\n",
              "                      min_samples_leaf=1, min_samples_split=2,\n",
              "                      min_weight_fraction_leaf=0.0, presort='deprecated',\n",
              "                      random_state=0, splitter='best')"
            ]
          },
          "metadata": {
            "tags": []
          },
          "execution_count": 62
        }
      ]
    },
    {
      "cell_type": "code",
      "metadata": {
        "id": "u8j65_ssE9bs"
      },
      "source": [
        "# Predicting for test set\n",
        "y_pred_decision = sc.inverse_transform(regressor.predict(X_test))"
      ],
      "execution_count": null,
      "outputs": []
    },
    {
      "cell_type": "code",
      "metadata": {
        "id": "TzeIg6_vE90d"
      },
      "source": [
        "# Saving the predictions in excel file\n",
        "\n",
        "solution = pd.DataFrame(y_pred_decision, columns = ['Price'])\n",
        "solution.to_excel('Predict_Book_Price.xlsx', index = False)"
      ],
      "execution_count": null,
      "outputs": []
    },
    {
      "cell_type": "code",
      "metadata": {
        "id": "BOukzzQDE9xQ",
        "outputId": "81f8ffdf-f6b1-42e6-dfd6-21366a5c7692",
        "colab": {
          "base_uri": "https://localhost:8080/",
          "height": 419
        }
      },
      "source": [
        "solution"
      ],
      "execution_count": null,
      "outputs": [
        {
          "output_type": "execute_result",
          "data": {
            "text/html": [
              "<div>\n",
              "<style scoped>\n",
              "    .dataframe tbody tr th:only-of-type {\n",
              "        vertical-align: middle;\n",
              "    }\n",
              "\n",
              "    .dataframe tbody tr th {\n",
              "        vertical-align: top;\n",
              "    }\n",
              "\n",
              "    .dataframe thead th {\n",
              "        text-align: right;\n",
              "    }\n",
              "</style>\n",
              "<table border=\"1\" class=\"dataframe\">\n",
              "  <thead>\n",
              "    <tr style=\"text-align: right;\">\n",
              "      <th></th>\n",
              "      <th>Price</th>\n",
              "    </tr>\n",
              "  </thead>\n",
              "  <tbody>\n",
              "    <tr>\n",
              "      <th>0</th>\n",
              "      <td>360.0</td>\n",
              "    </tr>\n",
              "    <tr>\n",
              "      <th>1</th>\n",
              "      <td>415.0</td>\n",
              "    </tr>\n",
              "    <tr>\n",
              "      <th>2</th>\n",
              "      <td>2798.0</td>\n",
              "    </tr>\n",
              "    <tr>\n",
              "      <th>3</th>\n",
              "      <td>184.0</td>\n",
              "    </tr>\n",
              "    <tr>\n",
              "      <th>4</th>\n",
              "      <td>335.0</td>\n",
              "    </tr>\n",
              "    <tr>\n",
              "      <th>...</th>\n",
              "      <td>...</td>\n",
              "    </tr>\n",
              "    <tr>\n",
              "      <th>931</th>\n",
              "      <td>135.0</td>\n",
              "    </tr>\n",
              "    <tr>\n",
              "      <th>932</th>\n",
              "      <td>460.0</td>\n",
              "    </tr>\n",
              "    <tr>\n",
              "      <th>933</th>\n",
              "      <td>2166.0</td>\n",
              "    </tr>\n",
              "    <tr>\n",
              "      <th>934</th>\n",
              "      <td>299.0</td>\n",
              "    </tr>\n",
              "    <tr>\n",
              "      <th>935</th>\n",
              "      <td>1500.0</td>\n",
              "    </tr>\n",
              "  </tbody>\n",
              "</table>\n",
              "<p>936 rows × 1 columns</p>\n",
              "</div>"
            ],
            "text/plain": [
              "      Price\n",
              "0     360.0\n",
              "1     415.0\n",
              "2    2798.0\n",
              "3     184.0\n",
              "4     335.0\n",
              "..      ...\n",
              "931   135.0\n",
              "932   460.0\n",
              "933  2166.0\n",
              "934   299.0\n",
              "935  1500.0\n",
              "\n",
              "[936 rows x 1 columns]"
            ]
          },
          "metadata": {
            "tags": []
          },
          "execution_count": 68
        }
      ]
    },
    {
      "cell_type": "code",
      "metadata": {
        "id": "eUlomH6qHp0s"
      },
      "source": [
        "from sklearn.model_selection import train_test_split\n",
        "\n",
        "train_x, val_x, train_y, val_y = train_test_split(X, y, test_size = 0.1, random_state = 123)"
      ],
      "execution_count": null,
      "outputs": []
    },
    {
      "cell_type": "code",
      "metadata": {
        "id": "OgQTqD4CHyIw",
        "outputId": "b90d4acb-1716-4566-a9fe-ff44fa1d7dc1",
        "colab": {
          "base_uri": "https://localhost:8080/",
          "height": 85
        }
      },
      "source": [
        "print(train_x.shape)\n",
        "print(train_y.shape)\n",
        "print(val_x.shape)\n",
        "print(val_y.shape)"
      ],
      "execution_count": null,
      "outputs": [
        {
          "output_type": "stream",
          "text": [
            "(5613, 17)\n",
            "(5613,)\n",
            "(624, 17)\n",
            "(624,)\n"
          ],
          "name": "stdout"
        }
      ]
    },
    {
      "cell_type": "code",
      "metadata": {
        "id": "zuxauHtSE9tt",
        "outputId": "b693a44e-fe9b-44cc-d5c6-51fc269e6c67",
        "colab": {
          "base_uri": "https://localhost:8080/",
          "height": 34
        }
      },
      "source": [
        "from xgboost import XGBRegressor\n",
        "import numpy as np\n",
        "\n",
        "xgb=XGBRegressor( objective='reg:squarederror', max_depth=6, learning_rate=0.1, n_estimators=100, booster = 'gbtree', n_jobs = -1,random_state = 1)\n",
        "xgb.fit(train_x,train_y)\n",
        "\n",
        "y_pred = sc.inverse_transform(xgb.predict(val_x))\n",
        "y_true = sc.inverse_transform(val_y)\n",
        "\n",
        "error = np.square(np.log10(y_pred +1) - np.log10(y_true +1)).mean() ** 0.5\n",
        "score = 1 - error\n",
        "\n",
        "print(\"RMLSE Score = \", score)"
      ],
      "execution_count": null,
      "outputs": [
        {
          "output_type": "stream",
          "text": [
            "RMLSE Score =  0.7163958922112829\n"
          ],
          "name": "stdout"
        }
      ]
    },
    {
      "cell_type": "code",
      "metadata": {
        "id": "R06u8ybdF97H",
        "outputId": "9cde79d2-4f28-42c6-cf96-24ac301724ad",
        "colab": {
          "base_uri": "https://localhost:8080/",
          "height": 136
        }
      },
      "source": [
        "# Fitting the complete training set (inclusing val_x and val_y)\n",
        "xgb.fit(X,y)"
      ],
      "execution_count": null,
      "outputs": [
        {
          "output_type": "execute_result",
          "data": {
            "text/plain": [
              "XGBRegressor(base_score=0.5, booster='gbtree', colsample_bylevel=1,\n",
              "             colsample_bynode=1, colsample_bytree=1, gamma=0,\n",
              "             importance_type='gain', learning_rate=0.1, max_delta_step=0,\n",
              "             max_depth=6, min_child_weight=1, missing=None, n_estimators=100,\n",
              "             n_jobs=-1, nthread=None, objective='reg:squarederror',\n",
              "             random_state=1, reg_alpha=0, reg_lambda=1, scale_pos_weight=1,\n",
              "             seed=None, silent=None, subsample=1, verbosity=1)"
            ]
          },
          "metadata": {
            "tags": []
          },
          "execution_count": 83
        }
      ]
    },
    {
      "cell_type": "code",
      "metadata": {
        "id": "ospcf9zLF93d"
      },
      "source": [
        "# Predicting for test set\n",
        "y_pred_xgb = sc.inverse_transform(xgb.predict(X_test))"
      ],
      "execution_count": null,
      "outputs": []
    },
    {
      "cell_type": "code",
      "metadata": {
        "id": "WRQ_ILp4F9yO"
      },
      "source": [
        "# Saving the predictions in excel file\n",
        "\n",
        "solution1 = pd.DataFrame(y_pred_xgb, columns = ['Price'])\n",
        "solution1.to_excel('Book_Price.xlsx', index = False)"
      ],
      "execution_count": null,
      "outputs": []
    },
    {
      "cell_type": "code",
      "metadata": {
        "id": "CmT5CF3HGfXW",
        "outputId": "737cb059-916e-4f05-bf2c-e88332573662",
        "colab": {
          "base_uri": "https://localhost:8080/",
          "height": 419
        }
      },
      "source": [
        "solution1"
      ],
      "execution_count": null,
      "outputs": [
        {
          "output_type": "execute_result",
          "data": {
            "text/html": [
              "<div>\n",
              "<style scoped>\n",
              "    .dataframe tbody tr th:only-of-type {\n",
              "        vertical-align: middle;\n",
              "    }\n",
              "\n",
              "    .dataframe tbody tr th {\n",
              "        vertical-align: top;\n",
              "    }\n",
              "\n",
              "    .dataframe thead th {\n",
              "        text-align: right;\n",
              "    }\n",
              "</style>\n",
              "<table border=\"1\" class=\"dataframe\">\n",
              "  <thead>\n",
              "    <tr style=\"text-align: right;\">\n",
              "      <th></th>\n",
              "      <th>Price</th>\n",
              "    </tr>\n",
              "  </thead>\n",
              "  <tbody>\n",
              "    <tr>\n",
              "      <th>0</th>\n",
              "      <td>641.898743</td>\n",
              "    </tr>\n",
              "    <tr>\n",
              "      <th>1</th>\n",
              "      <td>531.566040</td>\n",
              "    </tr>\n",
              "    <tr>\n",
              "      <th>2</th>\n",
              "      <td>1546.009277</td>\n",
              "    </tr>\n",
              "    <tr>\n",
              "      <th>3</th>\n",
              "      <td>322.143768</td>\n",
              "    </tr>\n",
              "    <tr>\n",
              "      <th>4</th>\n",
              "      <td>514.361023</td>\n",
              "    </tr>\n",
              "    <tr>\n",
              "      <th>...</th>\n",
              "      <td>...</td>\n",
              "    </tr>\n",
              "    <tr>\n",
              "      <th>931</th>\n",
              "      <td>648.140747</td>\n",
              "    </tr>\n",
              "    <tr>\n",
              "      <th>932</th>\n",
              "      <td>667.406799</td>\n",
              "    </tr>\n",
              "    <tr>\n",
              "      <th>933</th>\n",
              "      <td>8739.594727</td>\n",
              "    </tr>\n",
              "    <tr>\n",
              "      <th>934</th>\n",
              "      <td>665.965027</td>\n",
              "    </tr>\n",
              "    <tr>\n",
              "      <th>935</th>\n",
              "      <td>799.086609</td>\n",
              "    </tr>\n",
              "  </tbody>\n",
              "</table>\n",
              "<p>936 rows × 1 columns</p>\n",
              "</div>"
            ],
            "text/plain": [
              "           Price\n",
              "0     641.898743\n",
              "1     531.566040\n",
              "2    1546.009277\n",
              "3     322.143768\n",
              "4     514.361023\n",
              "..           ...\n",
              "931   648.140747\n",
              "932   667.406799\n",
              "933  8739.594727\n",
              "934   665.965027\n",
              "935   799.086609\n",
              "\n",
              "[936 rows x 1 columns]"
            ]
          },
          "metadata": {
            "tags": []
          },
          "execution_count": 86
        }
      ]
    }
  ]
}